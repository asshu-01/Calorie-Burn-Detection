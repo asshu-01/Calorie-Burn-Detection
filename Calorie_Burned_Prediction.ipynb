{
  "cells": [
    {
      "cell_type": "code",
      "execution_count": 1,
      "metadata": {
        "id": "cJoZj0SLOEaP"
      },
      "outputs": [],
      "source": [
        "import numpy as np\n",
        "import pandas as pd\n",
        "import matplotlib.pyplot as plt\n",
        "import seaborn as sns\n",
        "from sklearn.model_selection import train_test_split\n",
        "from xgboost import XGBRegressor\n",
        "from sklearn import metrics\n",
        "from sklearn.preprocessing import LabelEncoder"
      ]
    },
    {
      "cell_type": "code",
      "execution_count": 2,
      "metadata": {
        "id": "wiZvipQvIyGb"
      },
      "outputs": [],
      "source": [
        "from sklearn.preprocessing import StandardScaler\n",
        "from sklearn.model_selection import RandomizedSearchCV, train_test_split"
      ]
    },
    {
      "cell_type": "code",
      "execution_count": 3,
      "metadata": {
        "id": "R-8LmripEdnd"
      },
      "outputs": [],
      "source": [
        "from sklearn.model_selection import train_test_split\n",
        "from sklearn.preprocessing import StandardScaler\n",
        "from sklearn.metrics import r2_score, mean_squared_error\n",
        "from sklearn.linear_model import LinearRegression\n",
        "from sklearn.tree import DecisionTreeRegressor\n",
        "from sklearn.ensemble import RandomForestRegressor, GradientBoostingRegressor\n",
        "from sklearn.neighbors import KNeighborsRegressor\n",
        "from sklearn.svm import SVR"
      ]
    },
    {
      "cell_type": "code",
      "execution_count": 4,
      "metadata": {
        "id": "Iqz3zuNkYQD-"
      },
      "outputs": [],
      "source": [
        "# loading the data from csv file to a Pandas DataFrame\n",
        "calories = pd.read_csv('archive (1)\\calories.csv')"
      ]
    },
    {
      "cell_type": "code",
      "execution_count": 5,
      "metadata": {
        "colab": {
          "base_uri": "https://localhost:8080/",
          "height": 206
        },
        "id": "vNM_zjx3Ybym",
        "outputId": "c26e848d-4a9f-4627-d396-a32d4b29a43a"
      },
      "outputs": [
        {
          "data": {
            "application/vnd.microsoft.datawrangler.viewer.v0+json": {
              "columns": [
                {
                  "name": "index",
                  "rawType": "int64",
                  "type": "integer"
                },
                {
                  "name": "User_ID",
                  "rawType": "int64",
                  "type": "integer"
                },
                {
                  "name": "Calories",
                  "rawType": "float64",
                  "type": "float"
                }
              ],
              "ref": "dc5a05a3-1cf5-4cbd-9e05-a0077353fcf1",
              "rows": [
                [
                  "0",
                  "14733363",
                  "231.0"
                ],
                [
                  "1",
                  "14861698",
                  "66.0"
                ],
                [
                  "2",
                  "11179863",
                  "26.0"
                ],
                [
                  "3",
                  "16180408",
                  "71.0"
                ],
                [
                  "4",
                  "17771927",
                  "35.0"
                ]
              ],
              "shape": {
                "columns": 2,
                "rows": 5
              }
            },
            "text/html": [
              "<div>\n",
              "<style scoped>\n",
              "    .dataframe tbody tr th:only-of-type {\n",
              "        vertical-align: middle;\n",
              "    }\n",
              "\n",
              "    .dataframe tbody tr th {\n",
              "        vertical-align: top;\n",
              "    }\n",
              "\n",
              "    .dataframe thead th {\n",
              "        text-align: right;\n",
              "    }\n",
              "</style>\n",
              "<table border=\"1\" class=\"dataframe\">\n",
              "  <thead>\n",
              "    <tr style=\"text-align: right;\">\n",
              "      <th></th>\n",
              "      <th>User_ID</th>\n",
              "      <th>Calories</th>\n",
              "    </tr>\n",
              "  </thead>\n",
              "  <tbody>\n",
              "    <tr>\n",
              "      <th>0</th>\n",
              "      <td>14733363</td>\n",
              "      <td>231.0</td>\n",
              "    </tr>\n",
              "    <tr>\n",
              "      <th>1</th>\n",
              "      <td>14861698</td>\n",
              "      <td>66.0</td>\n",
              "    </tr>\n",
              "    <tr>\n",
              "      <th>2</th>\n",
              "      <td>11179863</td>\n",
              "      <td>26.0</td>\n",
              "    </tr>\n",
              "    <tr>\n",
              "      <th>3</th>\n",
              "      <td>16180408</td>\n",
              "      <td>71.0</td>\n",
              "    </tr>\n",
              "    <tr>\n",
              "      <th>4</th>\n",
              "      <td>17771927</td>\n",
              "      <td>35.0</td>\n",
              "    </tr>\n",
              "  </tbody>\n",
              "</table>\n",
              "</div>"
            ],
            "text/plain": [
              "    User_ID  Calories\n",
              "0  14733363     231.0\n",
              "1  14861698      66.0\n",
              "2  11179863      26.0\n",
              "3  16180408      71.0\n",
              "4  17771927      35.0"
            ]
          },
          "execution_count": 5,
          "metadata": {},
          "output_type": "execute_result"
        }
      ],
      "source": [
        "# print the first 5 rows of the dataframe\n",
        "calories.head()"
      ]
    },
    {
      "cell_type": "markdown",
      "metadata": {
        "id": "XXKRsLyQT4MG"
      },
      "source": [
        "# New Section"
      ]
    },
    {
      "cell_type": "code",
      "execution_count": 6,
      "metadata": {
        "id": "1QBkqXj_Ye5a"
      },
      "outputs": [],
      "source": [
        "exercise_data = pd.read_csv('archive (1)\\exercise.csv')"
      ]
    },
    {
      "cell_type": "code",
      "execution_count": 7,
      "metadata": {
        "colab": {
          "base_uri": "https://localhost:8080/",
          "height": 206
        },
        "id": "4MVLN9vWYjrz",
        "outputId": "8d06d5ad-8d81-42ed-8f7b-8d18e1685d59"
      },
      "outputs": [
        {
          "data": {
            "application/vnd.microsoft.datawrangler.viewer.v0+json": {
              "columns": [
                {
                  "name": "index",
                  "rawType": "int64",
                  "type": "integer"
                },
                {
                  "name": "User_ID",
                  "rawType": "int64",
                  "type": "integer"
                },
                {
                  "name": "Gender",
                  "rawType": "object",
                  "type": "string"
                },
                {
                  "name": "Age",
                  "rawType": "int64",
                  "type": "integer"
                },
                {
                  "name": "Height",
                  "rawType": "float64",
                  "type": "float"
                },
                {
                  "name": "Weight",
                  "rawType": "float64",
                  "type": "float"
                },
                {
                  "name": "Duration",
                  "rawType": "float64",
                  "type": "float"
                },
                {
                  "name": "Heart_Rate",
                  "rawType": "float64",
                  "type": "float"
                },
                {
                  "name": "Body_Temp",
                  "rawType": "float64",
                  "type": "float"
                }
              ],
              "ref": "b8f6442a-df73-43cb-8f50-01953d41b9be",
              "rows": [
                [
                  "0",
                  "14733363",
                  "male",
                  "68",
                  "190.0",
                  "94.0",
                  "29.0",
                  "105.0",
                  "40.8"
                ],
                [
                  "1",
                  "14861698",
                  "female",
                  "20",
                  "166.0",
                  "60.0",
                  "14.0",
                  "94.0",
                  "40.3"
                ],
                [
                  "2",
                  "11179863",
                  "male",
                  "69",
                  "179.0",
                  "79.0",
                  "5.0",
                  "88.0",
                  "38.7"
                ],
                [
                  "3",
                  "16180408",
                  "female",
                  "34",
                  "179.0",
                  "71.0",
                  "13.0",
                  "100.0",
                  "40.5"
                ],
                [
                  "4",
                  "17771927",
                  "female",
                  "27",
                  "154.0",
                  "58.0",
                  "10.0",
                  "81.0",
                  "39.8"
                ]
              ],
              "shape": {
                "columns": 8,
                "rows": 5
              }
            },
            "text/html": [
              "<div>\n",
              "<style scoped>\n",
              "    .dataframe tbody tr th:only-of-type {\n",
              "        vertical-align: middle;\n",
              "    }\n",
              "\n",
              "    .dataframe tbody tr th {\n",
              "        vertical-align: top;\n",
              "    }\n",
              "\n",
              "    .dataframe thead th {\n",
              "        text-align: right;\n",
              "    }\n",
              "</style>\n",
              "<table border=\"1\" class=\"dataframe\">\n",
              "  <thead>\n",
              "    <tr style=\"text-align: right;\">\n",
              "      <th></th>\n",
              "      <th>User_ID</th>\n",
              "      <th>Gender</th>\n",
              "      <th>Age</th>\n",
              "      <th>Height</th>\n",
              "      <th>Weight</th>\n",
              "      <th>Duration</th>\n",
              "      <th>Heart_Rate</th>\n",
              "      <th>Body_Temp</th>\n",
              "    </tr>\n",
              "  </thead>\n",
              "  <tbody>\n",
              "    <tr>\n",
              "      <th>0</th>\n",
              "      <td>14733363</td>\n",
              "      <td>male</td>\n",
              "      <td>68</td>\n",
              "      <td>190.0</td>\n",
              "      <td>94.0</td>\n",
              "      <td>29.0</td>\n",
              "      <td>105.0</td>\n",
              "      <td>40.8</td>\n",
              "    </tr>\n",
              "    <tr>\n",
              "      <th>1</th>\n",
              "      <td>14861698</td>\n",
              "      <td>female</td>\n",
              "      <td>20</td>\n",
              "      <td>166.0</td>\n",
              "      <td>60.0</td>\n",
              "      <td>14.0</td>\n",
              "      <td>94.0</td>\n",
              "      <td>40.3</td>\n",
              "    </tr>\n",
              "    <tr>\n",
              "      <th>2</th>\n",
              "      <td>11179863</td>\n",
              "      <td>male</td>\n",
              "      <td>69</td>\n",
              "      <td>179.0</td>\n",
              "      <td>79.0</td>\n",
              "      <td>5.0</td>\n",
              "      <td>88.0</td>\n",
              "      <td>38.7</td>\n",
              "    </tr>\n",
              "    <tr>\n",
              "      <th>3</th>\n",
              "      <td>16180408</td>\n",
              "      <td>female</td>\n",
              "      <td>34</td>\n",
              "      <td>179.0</td>\n",
              "      <td>71.0</td>\n",
              "      <td>13.0</td>\n",
              "      <td>100.0</td>\n",
              "      <td>40.5</td>\n",
              "    </tr>\n",
              "    <tr>\n",
              "      <th>4</th>\n",
              "      <td>17771927</td>\n",
              "      <td>female</td>\n",
              "      <td>27</td>\n",
              "      <td>154.0</td>\n",
              "      <td>58.0</td>\n",
              "      <td>10.0</td>\n",
              "      <td>81.0</td>\n",
              "      <td>39.8</td>\n",
              "    </tr>\n",
              "  </tbody>\n",
              "</table>\n",
              "</div>"
            ],
            "text/plain": [
              "    User_ID  Gender  Age  Height  Weight  Duration  Heart_Rate  Body_Temp\n",
              "0  14733363    male   68   190.0    94.0      29.0       105.0       40.8\n",
              "1  14861698  female   20   166.0    60.0      14.0        94.0       40.3\n",
              "2  11179863    male   69   179.0    79.0       5.0        88.0       38.7\n",
              "3  16180408  female   34   179.0    71.0      13.0       100.0       40.5\n",
              "4  17771927  female   27   154.0    58.0      10.0        81.0       39.8"
            ]
          },
          "execution_count": 7,
          "metadata": {},
          "output_type": "execute_result"
        }
      ],
      "source": [
        "exercise_data.head()"
      ]
    },
    {
      "cell_type": "code",
      "execution_count": 8,
      "metadata": {
        "id": "l3k6gaHfYpjl"
      },
      "outputs": [],
      "source": [
        "calories_data = pd.concat([exercise_data, calories['Calories']], axis=1)"
      ]
    },
    {
      "cell_type": "code",
      "execution_count": 9,
      "metadata": {
        "colab": {
          "base_uri": "https://localhost:8080/",
          "height": 206
        },
        "id": "q6ZlBLikYwcN",
        "outputId": "3a8e399b-f631-4211-eb12-1d931a455455"
      },
      "outputs": [
        {
          "data": {
            "application/vnd.microsoft.datawrangler.viewer.v0+json": {
              "columns": [
                {
                  "name": "index",
                  "rawType": "int64",
                  "type": "integer"
                },
                {
                  "name": "User_ID",
                  "rawType": "int64",
                  "type": "integer"
                },
                {
                  "name": "Gender",
                  "rawType": "object",
                  "type": "string"
                },
                {
                  "name": "Age",
                  "rawType": "int64",
                  "type": "integer"
                },
                {
                  "name": "Height",
                  "rawType": "float64",
                  "type": "float"
                },
                {
                  "name": "Weight",
                  "rawType": "float64",
                  "type": "float"
                },
                {
                  "name": "Duration",
                  "rawType": "float64",
                  "type": "float"
                },
                {
                  "name": "Heart_Rate",
                  "rawType": "float64",
                  "type": "float"
                },
                {
                  "name": "Body_Temp",
                  "rawType": "float64",
                  "type": "float"
                },
                {
                  "name": "Calories",
                  "rawType": "float64",
                  "type": "float"
                }
              ],
              "ref": "84317923-db70-494f-9c82-d73f6e823831",
              "rows": [
                [
                  "0",
                  "14733363",
                  "male",
                  "68",
                  "190.0",
                  "94.0",
                  "29.0",
                  "105.0",
                  "40.8",
                  "231.0"
                ],
                [
                  "1",
                  "14861698",
                  "female",
                  "20",
                  "166.0",
                  "60.0",
                  "14.0",
                  "94.0",
                  "40.3",
                  "66.0"
                ],
                [
                  "2",
                  "11179863",
                  "male",
                  "69",
                  "179.0",
                  "79.0",
                  "5.0",
                  "88.0",
                  "38.7",
                  "26.0"
                ],
                [
                  "3",
                  "16180408",
                  "female",
                  "34",
                  "179.0",
                  "71.0",
                  "13.0",
                  "100.0",
                  "40.5",
                  "71.0"
                ],
                [
                  "4",
                  "17771927",
                  "female",
                  "27",
                  "154.0",
                  "58.0",
                  "10.0",
                  "81.0",
                  "39.8",
                  "35.0"
                ]
              ],
              "shape": {
                "columns": 9,
                "rows": 5
              }
            },
            "text/html": [
              "<div>\n",
              "<style scoped>\n",
              "    .dataframe tbody tr th:only-of-type {\n",
              "        vertical-align: middle;\n",
              "    }\n",
              "\n",
              "    .dataframe tbody tr th {\n",
              "        vertical-align: top;\n",
              "    }\n",
              "\n",
              "    .dataframe thead th {\n",
              "        text-align: right;\n",
              "    }\n",
              "</style>\n",
              "<table border=\"1\" class=\"dataframe\">\n",
              "  <thead>\n",
              "    <tr style=\"text-align: right;\">\n",
              "      <th></th>\n",
              "      <th>User_ID</th>\n",
              "      <th>Gender</th>\n",
              "      <th>Age</th>\n",
              "      <th>Height</th>\n",
              "      <th>Weight</th>\n",
              "      <th>Duration</th>\n",
              "      <th>Heart_Rate</th>\n",
              "      <th>Body_Temp</th>\n",
              "      <th>Calories</th>\n",
              "    </tr>\n",
              "  </thead>\n",
              "  <tbody>\n",
              "    <tr>\n",
              "      <th>0</th>\n",
              "      <td>14733363</td>\n",
              "      <td>male</td>\n",
              "      <td>68</td>\n",
              "      <td>190.0</td>\n",
              "      <td>94.0</td>\n",
              "      <td>29.0</td>\n",
              "      <td>105.0</td>\n",
              "      <td>40.8</td>\n",
              "      <td>231.0</td>\n",
              "    </tr>\n",
              "    <tr>\n",
              "      <th>1</th>\n",
              "      <td>14861698</td>\n",
              "      <td>female</td>\n",
              "      <td>20</td>\n",
              "      <td>166.0</td>\n",
              "      <td>60.0</td>\n",
              "      <td>14.0</td>\n",
              "      <td>94.0</td>\n",
              "      <td>40.3</td>\n",
              "      <td>66.0</td>\n",
              "    </tr>\n",
              "    <tr>\n",
              "      <th>2</th>\n",
              "      <td>11179863</td>\n",
              "      <td>male</td>\n",
              "      <td>69</td>\n",
              "      <td>179.0</td>\n",
              "      <td>79.0</td>\n",
              "      <td>5.0</td>\n",
              "      <td>88.0</td>\n",
              "      <td>38.7</td>\n",
              "      <td>26.0</td>\n",
              "    </tr>\n",
              "    <tr>\n",
              "      <th>3</th>\n",
              "      <td>16180408</td>\n",
              "      <td>female</td>\n",
              "      <td>34</td>\n",
              "      <td>179.0</td>\n",
              "      <td>71.0</td>\n",
              "      <td>13.0</td>\n",
              "      <td>100.0</td>\n",
              "      <td>40.5</td>\n",
              "      <td>71.0</td>\n",
              "    </tr>\n",
              "    <tr>\n",
              "      <th>4</th>\n",
              "      <td>17771927</td>\n",
              "      <td>female</td>\n",
              "      <td>27</td>\n",
              "      <td>154.0</td>\n",
              "      <td>58.0</td>\n",
              "      <td>10.0</td>\n",
              "      <td>81.0</td>\n",
              "      <td>39.8</td>\n",
              "      <td>35.0</td>\n",
              "    </tr>\n",
              "  </tbody>\n",
              "</table>\n",
              "</div>"
            ],
            "text/plain": [
              "    User_ID  Gender  Age  Height  Weight  Duration  Heart_Rate  Body_Temp  \\\n",
              "0  14733363    male   68   190.0    94.0      29.0       105.0       40.8   \n",
              "1  14861698  female   20   166.0    60.0      14.0        94.0       40.3   \n",
              "2  11179863    male   69   179.0    79.0       5.0        88.0       38.7   \n",
              "3  16180408  female   34   179.0    71.0      13.0       100.0       40.5   \n",
              "4  17771927  female   27   154.0    58.0      10.0        81.0       39.8   \n",
              "\n",
              "   Calories  \n",
              "0     231.0  \n",
              "1      66.0  \n",
              "2      26.0  \n",
              "3      71.0  \n",
              "4      35.0  "
            ]
          },
          "execution_count": 9,
          "metadata": {},
          "output_type": "execute_result"
        }
      ],
      "source": [
        "calories_data.head()"
      ]
    },
    {
      "cell_type": "code",
      "execution_count": 10,
      "metadata": {
        "colab": {
          "base_uri": "https://localhost:8080/",
          "height": 206
        },
        "id": "ULUPMd7WY0bR",
        "outputId": "6cc63d95-430c-43c7-e9e1-de42c69ea590"
      },
      "outputs": [
        {
          "data": {
            "application/vnd.microsoft.datawrangler.viewer.v0+json": {
              "columns": [
                {
                  "name": "index",
                  "rawType": "int64",
                  "type": "integer"
                },
                {
                  "name": "User_ID",
                  "rawType": "int64",
                  "type": "integer"
                },
                {
                  "name": "Gender",
                  "rawType": "object",
                  "type": "string"
                },
                {
                  "name": "Age",
                  "rawType": "int64",
                  "type": "integer"
                },
                {
                  "name": "Height",
                  "rawType": "float64",
                  "type": "float"
                },
                {
                  "name": "Weight",
                  "rawType": "float64",
                  "type": "float"
                },
                {
                  "name": "Duration",
                  "rawType": "float64",
                  "type": "float"
                },
                {
                  "name": "Heart_Rate",
                  "rawType": "float64",
                  "type": "float"
                },
                {
                  "name": "Body_Temp",
                  "rawType": "float64",
                  "type": "float"
                },
                {
                  "name": "Calories",
                  "rawType": "float64",
                  "type": "float"
                }
              ],
              "ref": "4af32585-5145-4a6d-ab42-1daf9910fc75",
              "rows": [
                [
                  "14995",
                  "15644082",
                  "female",
                  "20",
                  "193.0",
                  "86.0",
                  "11.0",
                  "92.0",
                  "40.4",
                  "45.0"
                ],
                [
                  "14996",
                  "17212577",
                  "female",
                  "27",
                  "165.0",
                  "65.0",
                  "6.0",
                  "85.0",
                  "39.2",
                  "23.0"
                ],
                [
                  "14997",
                  "17271188",
                  "female",
                  "43",
                  "159.0",
                  "58.0",
                  "16.0",
                  "90.0",
                  "40.1",
                  "75.0"
                ],
                [
                  "14998",
                  "18643037",
                  "male",
                  "78",
                  "193.0",
                  "97.0",
                  "2.0",
                  "84.0",
                  "38.3",
                  "11.0"
                ],
                [
                  "14999",
                  "11751526",
                  "male",
                  "63",
                  "173.0",
                  "79.0",
                  "18.0",
                  "92.0",
                  "40.5",
                  "98.0"
                ]
              ],
              "shape": {
                "columns": 9,
                "rows": 5
              }
            },
            "text/html": [
              "<div>\n",
              "<style scoped>\n",
              "    .dataframe tbody tr th:only-of-type {\n",
              "        vertical-align: middle;\n",
              "    }\n",
              "\n",
              "    .dataframe tbody tr th {\n",
              "        vertical-align: top;\n",
              "    }\n",
              "\n",
              "    .dataframe thead th {\n",
              "        text-align: right;\n",
              "    }\n",
              "</style>\n",
              "<table border=\"1\" class=\"dataframe\">\n",
              "  <thead>\n",
              "    <tr style=\"text-align: right;\">\n",
              "      <th></th>\n",
              "      <th>User_ID</th>\n",
              "      <th>Gender</th>\n",
              "      <th>Age</th>\n",
              "      <th>Height</th>\n",
              "      <th>Weight</th>\n",
              "      <th>Duration</th>\n",
              "      <th>Heart_Rate</th>\n",
              "      <th>Body_Temp</th>\n",
              "      <th>Calories</th>\n",
              "    </tr>\n",
              "  </thead>\n",
              "  <tbody>\n",
              "    <tr>\n",
              "      <th>14995</th>\n",
              "      <td>15644082</td>\n",
              "      <td>female</td>\n",
              "      <td>20</td>\n",
              "      <td>193.0</td>\n",
              "      <td>86.0</td>\n",
              "      <td>11.0</td>\n",
              "      <td>92.0</td>\n",
              "      <td>40.4</td>\n",
              "      <td>45.0</td>\n",
              "    </tr>\n",
              "    <tr>\n",
              "      <th>14996</th>\n",
              "      <td>17212577</td>\n",
              "      <td>female</td>\n",
              "      <td>27</td>\n",
              "      <td>165.0</td>\n",
              "      <td>65.0</td>\n",
              "      <td>6.0</td>\n",
              "      <td>85.0</td>\n",
              "      <td>39.2</td>\n",
              "      <td>23.0</td>\n",
              "    </tr>\n",
              "    <tr>\n",
              "      <th>14997</th>\n",
              "      <td>17271188</td>\n",
              "      <td>female</td>\n",
              "      <td>43</td>\n",
              "      <td>159.0</td>\n",
              "      <td>58.0</td>\n",
              "      <td>16.0</td>\n",
              "      <td>90.0</td>\n",
              "      <td>40.1</td>\n",
              "      <td>75.0</td>\n",
              "    </tr>\n",
              "    <tr>\n",
              "      <th>14998</th>\n",
              "      <td>18643037</td>\n",
              "      <td>male</td>\n",
              "      <td>78</td>\n",
              "      <td>193.0</td>\n",
              "      <td>97.0</td>\n",
              "      <td>2.0</td>\n",
              "      <td>84.0</td>\n",
              "      <td>38.3</td>\n",
              "      <td>11.0</td>\n",
              "    </tr>\n",
              "    <tr>\n",
              "      <th>14999</th>\n",
              "      <td>11751526</td>\n",
              "      <td>male</td>\n",
              "      <td>63</td>\n",
              "      <td>173.0</td>\n",
              "      <td>79.0</td>\n",
              "      <td>18.0</td>\n",
              "      <td>92.0</td>\n",
              "      <td>40.5</td>\n",
              "      <td>98.0</td>\n",
              "    </tr>\n",
              "  </tbody>\n",
              "</table>\n",
              "</div>"
            ],
            "text/plain": [
              "        User_ID  Gender  Age  Height  Weight  Duration  Heart_Rate  Body_Temp  \\\n",
              "14995  15644082  female   20   193.0    86.0      11.0        92.0       40.4   \n",
              "14996  17212577  female   27   165.0    65.0       6.0        85.0       39.2   \n",
              "14997  17271188  female   43   159.0    58.0      16.0        90.0       40.1   \n",
              "14998  18643037    male   78   193.0    97.0       2.0        84.0       38.3   \n",
              "14999  11751526    male   63   173.0    79.0      18.0        92.0       40.5   \n",
              "\n",
              "       Calories  \n",
              "14995      45.0  \n",
              "14996      23.0  \n",
              "14997      75.0  \n",
              "14998      11.0  \n",
              "14999      98.0  "
            ]
          },
          "execution_count": 10,
          "metadata": {},
          "output_type": "execute_result"
        }
      ],
      "source": [
        "calories_data.tail()"
      ]
    },
    {
      "cell_type": "code",
      "execution_count": 11,
      "metadata": {
        "colab": {
          "base_uri": "https://localhost:8080/",
          "height": 423
        },
        "id": "dIZkUoGHY5LJ",
        "outputId": "67c0f675-aa61-45a8-ddcb-1d8d20982457"
      },
      "outputs": [
        {
          "data": {
            "application/vnd.microsoft.datawrangler.viewer.v0+json": {
              "columns": [
                {
                  "name": "index",
                  "rawType": "int64",
                  "type": "integer"
                },
                {
                  "name": "User_ID",
                  "rawType": "int64",
                  "type": "integer"
                },
                {
                  "name": "Gender",
                  "rawType": "object",
                  "type": "string"
                },
                {
                  "name": "Age",
                  "rawType": "int64",
                  "type": "integer"
                },
                {
                  "name": "Height",
                  "rawType": "float64",
                  "type": "float"
                },
                {
                  "name": "Weight",
                  "rawType": "float64",
                  "type": "float"
                },
                {
                  "name": "Duration",
                  "rawType": "float64",
                  "type": "float"
                },
                {
                  "name": "Heart_Rate",
                  "rawType": "float64",
                  "type": "float"
                },
                {
                  "name": "Body_Temp",
                  "rawType": "float64",
                  "type": "float"
                },
                {
                  "name": "Calories",
                  "rawType": "float64",
                  "type": "float"
                }
              ],
              "ref": "81452e32-ad61-4139-968d-ea95f32f9eb2",
              "rows": [
                [
                  "0",
                  "14733363",
                  "male",
                  "68",
                  "190.0",
                  "94.0",
                  "29.0",
                  "105.0",
                  "40.8",
                  "231.0"
                ],
                [
                  "1",
                  "14861698",
                  "female",
                  "20",
                  "166.0",
                  "60.0",
                  "14.0",
                  "94.0",
                  "40.3",
                  "66.0"
                ],
                [
                  "2",
                  "11179863",
                  "male",
                  "69",
                  "179.0",
                  "79.0",
                  "5.0",
                  "88.0",
                  "38.7",
                  "26.0"
                ],
                [
                  "3",
                  "16180408",
                  "female",
                  "34",
                  "179.0",
                  "71.0",
                  "13.0",
                  "100.0",
                  "40.5",
                  "71.0"
                ],
                [
                  "4",
                  "17771927",
                  "female",
                  "27",
                  "154.0",
                  "58.0",
                  "10.0",
                  "81.0",
                  "39.8",
                  "35.0"
                ],
                [
                  "5",
                  "15130815",
                  "female",
                  "36",
                  "151.0",
                  "50.0",
                  "23.0",
                  "96.0",
                  "40.7",
                  "123.0"
                ],
                [
                  "6",
                  "19602372",
                  "female",
                  "33",
                  "158.0",
                  "56.0",
                  "22.0",
                  "95.0",
                  "40.5",
                  "112.0"
                ],
                [
                  "7",
                  "11117088",
                  "male",
                  "41",
                  "175.0",
                  "85.0",
                  "25.0",
                  "100.0",
                  "40.7",
                  "143.0"
                ],
                [
                  "8",
                  "12132339",
                  "male",
                  "60",
                  "186.0",
                  "94.0",
                  "21.0",
                  "97.0",
                  "40.4",
                  "134.0"
                ],
                [
                  "9",
                  "17964668",
                  "female",
                  "26",
                  "146.0",
                  "51.0",
                  "16.0",
                  "90.0",
                  "40.2",
                  "72.0"
                ],
                [
                  "10",
                  "13723164",
                  "female",
                  "36",
                  "177.0",
                  "76.0",
                  "1.0",
                  "74.0",
                  "37.8",
                  "3.0"
                ],
                [
                  "11",
                  "13681290",
                  "female",
                  "21",
                  "157.0",
                  "56.0",
                  "17.0",
                  "100.0",
                  "40.0",
                  "92.0"
                ],
                [
                  "12",
                  "15566424",
                  "male",
                  "66",
                  "171.0",
                  "79.0",
                  "11.0",
                  "90.0",
                  "40.0",
                  "58.0"
                ],
                [
                  "13",
                  "12891699",
                  "female",
                  "32",
                  "157.0",
                  "54.0",
                  "18.0",
                  "93.0",
                  "40.4",
                  "88.0"
                ],
                [
                  "14",
                  "13823829",
                  "male",
                  "53",
                  "182.0",
                  "85.0",
                  "2.0",
                  "82.0",
                  "38.1",
                  "7.0"
                ],
                [
                  "15",
                  "17557348",
                  "female",
                  "39",
                  "156.0",
                  "62.0",
                  "28.0",
                  "104.0",
                  "40.8",
                  "170.0"
                ],
                [
                  "16",
                  "12198133",
                  "male",
                  "39",
                  "182.0",
                  "82.0",
                  "4.0",
                  "82.0",
                  "38.6",
                  "11.0"
                ],
                [
                  "17",
                  "15236104",
                  "male",
                  "46",
                  "169.0",
                  "67.0",
                  "11.0",
                  "89.0",
                  "40.2",
                  "43.0"
                ],
                [
                  "18",
                  "11042324",
                  "female",
                  "27",
                  "171.0",
                  "65.0",
                  "4.0",
                  "85.0",
                  "38.6",
                  "15.0"
                ],
                [
                  "19",
                  "16864285",
                  "male",
                  "50",
                  "188.0",
                  "86.0",
                  "14.0",
                  "94.0",
                  "40.2",
                  "74.0"
                ],
                [
                  "20",
                  "11674347",
                  "male",
                  "67",
                  "189.0",
                  "93.0",
                  "8.0",
                  "77.0",
                  "39.2",
                  "29.0"
                ],
                [
                  "21",
                  "19797300",
                  "female",
                  "31",
                  "148.0",
                  "50.0",
                  "8.0",
                  "84.0",
                  "39.5",
                  "32.0"
                ],
                [
                  "22",
                  "14711095",
                  "female",
                  "33",
                  "157.0",
                  "60.0",
                  "3.0",
                  "80.0",
                  "38.7",
                  "10.0"
                ],
                [
                  "23",
                  "14434854",
                  "female",
                  "20",
                  "165.0",
                  "59.0",
                  "29.0",
                  "100.0",
                  "41.0",
                  "155.0"
                ],
                [
                  "24",
                  "14893804",
                  "male",
                  "48",
                  "182.0",
                  "85.0",
                  "1.0",
                  "80.0",
                  "37.7",
                  "3.0"
                ],
                [
                  "25",
                  "17231597",
                  "male",
                  "29",
                  "176.0",
                  "75.0",
                  "10.0",
                  "83.0",
                  "39.7",
                  "24.0"
                ],
                [
                  "26",
                  "10901446",
                  "male",
                  "33",
                  "173.0",
                  "73.0",
                  "7.0",
                  "78.0",
                  "39.3",
                  "12.0"
                ],
                [
                  "27",
                  "15874362",
                  "male",
                  "42",
                  "190.0",
                  "88.0",
                  "3.0",
                  "83.0",
                  "38.9",
                  "10.0"
                ],
                [
                  "28",
                  "15569252",
                  "female",
                  "62",
                  "159.0",
                  "59.0",
                  "29.0",
                  "106.0",
                  "41.2",
                  "195.0"
                ],
                [
                  "29",
                  "15615743",
                  "male",
                  "38",
                  "171.0",
                  "75.0",
                  "2.0",
                  "81.0",
                  "38.2",
                  "5.0"
                ],
                [
                  "30",
                  "13363046",
                  "male",
                  "20",
                  "183.0",
                  "88.0",
                  "16.0",
                  "97.0",
                  "40.5",
                  "69.0"
                ],
                [
                  "31",
                  "17572853",
                  "female",
                  "25",
                  "160.0",
                  "59.0",
                  "24.0",
                  "102.0",
                  "40.3",
                  "136.0"
                ],
                [
                  "32",
                  "17157339",
                  "female",
                  "24",
                  "165.0",
                  "59.0",
                  "18.0",
                  "91.0",
                  "40.2",
                  "80.0"
                ],
                [
                  "33",
                  "18328111",
                  "female",
                  "42",
                  "165.0",
                  "68.0",
                  "22.0",
                  "93.0",
                  "40.8",
                  "107.0"
                ],
                [
                  "34",
                  "19303479",
                  "male",
                  "22",
                  "182.0",
                  "84.0",
                  "29.0",
                  "114.0",
                  "41.0",
                  "200.0"
                ],
                [
                  "35",
                  "10699201",
                  "female",
                  "74",
                  "158.0",
                  "59.0",
                  "10.0",
                  "93.0",
                  "39.6",
                  "56.0"
                ],
                [
                  "36",
                  "15283313",
                  "female",
                  "70",
                  "154.0",
                  "59.0",
                  "10.0",
                  "88.0",
                  "40.0",
                  "50.0"
                ],
                [
                  "37",
                  "16324247",
                  "female",
                  "26",
                  "182.0",
                  "80.0",
                  "21.0",
                  "96.0",
                  "40.5",
                  "100.0"
                ],
                [
                  "38",
                  "14277710",
                  "male",
                  "44",
                  "184.0",
                  "86.0",
                  "25.0",
                  "114.0",
                  "40.8",
                  "200.0"
                ],
                [
                  "39",
                  "10888188",
                  "male",
                  "61",
                  "183.0",
                  "86.0",
                  "1.0",
                  "81.0",
                  "38.3",
                  "4.0"
                ],
                [
                  "40",
                  "13379795",
                  "female",
                  "68",
                  "157.0",
                  "57.0",
                  "13.0",
                  "92.0",
                  "40.1",
                  "70.0"
                ],
                [
                  "41",
                  "17181524",
                  "female",
                  "61",
                  "176.0",
                  "70.0",
                  "20.0",
                  "104.0",
                  "40.5",
                  "127.0"
                ],
                [
                  "42",
                  "15988442",
                  "male",
                  "63",
                  "179.0",
                  "80.0",
                  "25.0",
                  "108.0",
                  "40.8",
                  "197.0"
                ],
                [
                  "43",
                  "19538533",
                  "female",
                  "54",
                  "171.0",
                  "66.0",
                  "20.0",
                  "98.0",
                  "40.1",
                  "113.0"
                ],
                [
                  "44",
                  "14591877",
                  "female",
                  "54",
                  "169.0",
                  "66.0",
                  "3.0",
                  "80.0",
                  "38.9",
                  "11.0"
                ],
                [
                  "45",
                  "14274480",
                  "female",
                  "47",
                  "155.0",
                  "55.0",
                  "16.0",
                  "93.0",
                  "40.5",
                  "82.0"
                ],
                [
                  "46",
                  "16818429",
                  "male",
                  "33",
                  "184.0",
                  "86.0",
                  "8.0",
                  "86.0",
                  "39.9",
                  "26.0"
                ],
                [
                  "47",
                  "17476522",
                  "female",
                  "24",
                  "171.0",
                  "66.0",
                  "24.0",
                  "105.0",
                  "40.6",
                  "141.0"
                ],
                [
                  "48",
                  "16369885",
                  "male",
                  "24",
                  "195.0",
                  "98.0",
                  "20.0",
                  "96.0",
                  "40.6",
                  "92.0"
                ],
                [
                  "49",
                  "17816292",
                  "male",
                  "48",
                  "152.0",
                  "59.0",
                  "2.0",
                  "79.0",
                  "38.0",
                  "5.0"
                ]
              ],
              "shape": {
                "columns": 9,
                "rows": 15000
              }
            },
            "text/html": [
              "<div>\n",
              "<style scoped>\n",
              "    .dataframe tbody tr th:only-of-type {\n",
              "        vertical-align: middle;\n",
              "    }\n",
              "\n",
              "    .dataframe tbody tr th {\n",
              "        vertical-align: top;\n",
              "    }\n",
              "\n",
              "    .dataframe thead th {\n",
              "        text-align: right;\n",
              "    }\n",
              "</style>\n",
              "<table border=\"1\" class=\"dataframe\">\n",
              "  <thead>\n",
              "    <tr style=\"text-align: right;\">\n",
              "      <th></th>\n",
              "      <th>User_ID</th>\n",
              "      <th>Gender</th>\n",
              "      <th>Age</th>\n",
              "      <th>Height</th>\n",
              "      <th>Weight</th>\n",
              "      <th>Duration</th>\n",
              "      <th>Heart_Rate</th>\n",
              "      <th>Body_Temp</th>\n",
              "      <th>Calories</th>\n",
              "    </tr>\n",
              "  </thead>\n",
              "  <tbody>\n",
              "    <tr>\n",
              "      <th>0</th>\n",
              "      <td>14733363</td>\n",
              "      <td>male</td>\n",
              "      <td>68</td>\n",
              "      <td>190.0</td>\n",
              "      <td>94.0</td>\n",
              "      <td>29.0</td>\n",
              "      <td>105.0</td>\n",
              "      <td>40.8</td>\n",
              "      <td>231.0</td>\n",
              "    </tr>\n",
              "    <tr>\n",
              "      <th>1</th>\n",
              "      <td>14861698</td>\n",
              "      <td>female</td>\n",
              "      <td>20</td>\n",
              "      <td>166.0</td>\n",
              "      <td>60.0</td>\n",
              "      <td>14.0</td>\n",
              "      <td>94.0</td>\n",
              "      <td>40.3</td>\n",
              "      <td>66.0</td>\n",
              "    </tr>\n",
              "    <tr>\n",
              "      <th>2</th>\n",
              "      <td>11179863</td>\n",
              "      <td>male</td>\n",
              "      <td>69</td>\n",
              "      <td>179.0</td>\n",
              "      <td>79.0</td>\n",
              "      <td>5.0</td>\n",
              "      <td>88.0</td>\n",
              "      <td>38.7</td>\n",
              "      <td>26.0</td>\n",
              "    </tr>\n",
              "    <tr>\n",
              "      <th>3</th>\n",
              "      <td>16180408</td>\n",
              "      <td>female</td>\n",
              "      <td>34</td>\n",
              "      <td>179.0</td>\n",
              "      <td>71.0</td>\n",
              "      <td>13.0</td>\n",
              "      <td>100.0</td>\n",
              "      <td>40.5</td>\n",
              "      <td>71.0</td>\n",
              "    </tr>\n",
              "    <tr>\n",
              "      <th>4</th>\n",
              "      <td>17771927</td>\n",
              "      <td>female</td>\n",
              "      <td>27</td>\n",
              "      <td>154.0</td>\n",
              "      <td>58.0</td>\n",
              "      <td>10.0</td>\n",
              "      <td>81.0</td>\n",
              "      <td>39.8</td>\n",
              "      <td>35.0</td>\n",
              "    </tr>\n",
              "    <tr>\n",
              "      <th>...</th>\n",
              "      <td>...</td>\n",
              "      <td>...</td>\n",
              "      <td>...</td>\n",
              "      <td>...</td>\n",
              "      <td>...</td>\n",
              "      <td>...</td>\n",
              "      <td>...</td>\n",
              "      <td>...</td>\n",
              "      <td>...</td>\n",
              "    </tr>\n",
              "    <tr>\n",
              "      <th>14995</th>\n",
              "      <td>15644082</td>\n",
              "      <td>female</td>\n",
              "      <td>20</td>\n",
              "      <td>193.0</td>\n",
              "      <td>86.0</td>\n",
              "      <td>11.0</td>\n",
              "      <td>92.0</td>\n",
              "      <td>40.4</td>\n",
              "      <td>45.0</td>\n",
              "    </tr>\n",
              "    <tr>\n",
              "      <th>14996</th>\n",
              "      <td>17212577</td>\n",
              "      <td>female</td>\n",
              "      <td>27</td>\n",
              "      <td>165.0</td>\n",
              "      <td>65.0</td>\n",
              "      <td>6.0</td>\n",
              "      <td>85.0</td>\n",
              "      <td>39.2</td>\n",
              "      <td>23.0</td>\n",
              "    </tr>\n",
              "    <tr>\n",
              "      <th>14997</th>\n",
              "      <td>17271188</td>\n",
              "      <td>female</td>\n",
              "      <td>43</td>\n",
              "      <td>159.0</td>\n",
              "      <td>58.0</td>\n",
              "      <td>16.0</td>\n",
              "      <td>90.0</td>\n",
              "      <td>40.1</td>\n",
              "      <td>75.0</td>\n",
              "    </tr>\n",
              "    <tr>\n",
              "      <th>14998</th>\n",
              "      <td>18643037</td>\n",
              "      <td>male</td>\n",
              "      <td>78</td>\n",
              "      <td>193.0</td>\n",
              "      <td>97.0</td>\n",
              "      <td>2.0</td>\n",
              "      <td>84.0</td>\n",
              "      <td>38.3</td>\n",
              "      <td>11.0</td>\n",
              "    </tr>\n",
              "    <tr>\n",
              "      <th>14999</th>\n",
              "      <td>11751526</td>\n",
              "      <td>male</td>\n",
              "      <td>63</td>\n",
              "      <td>173.0</td>\n",
              "      <td>79.0</td>\n",
              "      <td>18.0</td>\n",
              "      <td>92.0</td>\n",
              "      <td>40.5</td>\n",
              "      <td>98.0</td>\n",
              "    </tr>\n",
              "  </tbody>\n",
              "</table>\n",
              "<p>15000 rows × 9 columns</p>\n",
              "</div>"
            ],
            "text/plain": [
              "        User_ID  Gender  Age  Height  Weight  Duration  Heart_Rate  Body_Temp  \\\n",
              "0      14733363    male   68   190.0    94.0      29.0       105.0       40.8   \n",
              "1      14861698  female   20   166.0    60.0      14.0        94.0       40.3   \n",
              "2      11179863    male   69   179.0    79.0       5.0        88.0       38.7   \n",
              "3      16180408  female   34   179.0    71.0      13.0       100.0       40.5   \n",
              "4      17771927  female   27   154.0    58.0      10.0        81.0       39.8   \n",
              "...         ...     ...  ...     ...     ...       ...         ...        ...   \n",
              "14995  15644082  female   20   193.0    86.0      11.0        92.0       40.4   \n",
              "14996  17212577  female   27   165.0    65.0       6.0        85.0       39.2   \n",
              "14997  17271188  female   43   159.0    58.0      16.0        90.0       40.1   \n",
              "14998  18643037    male   78   193.0    97.0       2.0        84.0       38.3   \n",
              "14999  11751526    male   63   173.0    79.0      18.0        92.0       40.5   \n",
              "\n",
              "       Calories  \n",
              "0         231.0  \n",
              "1          66.0  \n",
              "2          26.0  \n",
              "3          71.0  \n",
              "4          35.0  \n",
              "...         ...  \n",
              "14995      45.0  \n",
              "14996      23.0  \n",
              "14997      75.0  \n",
              "14998      11.0  \n",
              "14999      98.0  \n",
              "\n",
              "[15000 rows x 9 columns]"
            ]
          },
          "execution_count": 11,
          "metadata": {},
          "output_type": "execute_result"
        }
      ],
      "source": [
        "calories_data"
      ]
    },
    {
      "cell_type": "code",
      "execution_count": 12,
      "metadata": {
        "colab": {
          "base_uri": "https://localhost:8080/"
        },
        "id": "pQ9rXA8vZC_l",
        "outputId": "8af9cbd3-dbd4-455b-a81e-3746270b83ab"
      },
      "outputs": [
        {
          "data": {
            "text/plain": [
              "(15000, 9)"
            ]
          },
          "execution_count": 12,
          "metadata": {},
          "output_type": "execute_result"
        }
      ],
      "source": [
        "# checking the number of rows and columns\n",
        "calories_data.shape"
      ]
    },
    {
      "cell_type": "code",
      "execution_count": 13,
      "metadata": {
        "colab": {
          "base_uri": "https://localhost:8080/"
        },
        "id": "2Zcw89QDZOWV",
        "outputId": "a156292d-92c1-487c-a12e-a3b9d5deb323"
      },
      "outputs": [
        {
          "name": "stdout",
          "output_type": "stream",
          "text": [
            "<class 'pandas.core.frame.DataFrame'>\n",
            "RangeIndex: 15000 entries, 0 to 14999\n",
            "Data columns (total 9 columns):\n",
            " #   Column      Non-Null Count  Dtype  \n",
            "---  ------      --------------  -----  \n",
            " 0   User_ID     15000 non-null  int64  \n",
            " 1   Gender      15000 non-null  object \n",
            " 2   Age         15000 non-null  int64  \n",
            " 3   Height      15000 non-null  float64\n",
            " 4   Weight      15000 non-null  float64\n",
            " 5   Duration    15000 non-null  float64\n",
            " 6   Heart_Rate  15000 non-null  float64\n",
            " 7   Body_Temp   15000 non-null  float64\n",
            " 8   Calories    15000 non-null  float64\n",
            "dtypes: float64(6), int64(2), object(1)\n",
            "memory usage: 1.0+ MB\n"
          ]
        }
      ],
      "source": [
        "# getting some informations about the data\n",
        "calories_data.info()"
      ]
    },
    {
      "cell_type": "code",
      "execution_count": 14,
      "metadata": {
        "colab": {
          "base_uri": "https://localhost:8080/",
          "height": 366
        },
        "id": "fXM8QySqZRAC",
        "outputId": "0345e7fc-eb72-4462-ed08-af617c67883f"
      },
      "outputs": [
        {
          "data": {
            "application/vnd.microsoft.datawrangler.viewer.v0+json": {
              "columns": [
                {
                  "name": "index",
                  "rawType": "object",
                  "type": "string"
                },
                {
                  "name": "0",
                  "rawType": "int64",
                  "type": "integer"
                }
              ],
              "ref": "3c4825c4-b531-439a-bfed-7533ea9a0382",
              "rows": [
                [
                  "User_ID",
                  "0"
                ],
                [
                  "Gender",
                  "0"
                ],
                [
                  "Age",
                  "0"
                ],
                [
                  "Height",
                  "0"
                ],
                [
                  "Weight",
                  "0"
                ],
                [
                  "Duration",
                  "0"
                ],
                [
                  "Heart_Rate",
                  "0"
                ],
                [
                  "Body_Temp",
                  "0"
                ],
                [
                  "Calories",
                  "0"
                ]
              ],
              "shape": {
                "columns": 1,
                "rows": 9
              }
            },
            "text/plain": [
              "User_ID       0\n",
              "Gender        0\n",
              "Age           0\n",
              "Height        0\n",
              "Weight        0\n",
              "Duration      0\n",
              "Heart_Rate    0\n",
              "Body_Temp     0\n",
              "Calories      0\n",
              "dtype: int64"
            ]
          },
          "execution_count": 14,
          "metadata": {},
          "output_type": "execute_result"
        }
      ],
      "source": [
        "# checking for missing values\n",
        "calories_data.isnull().sum()"
      ]
    },
    {
      "cell_type": "code",
      "execution_count": 15,
      "metadata": {
        "colab": {
          "base_uri": "https://localhost:8080/",
          "height": 300
        },
        "id": "pnGjZjDlZT7u",
        "outputId": "e7ebc513-d88e-46ec-a237-9a76ed194a8b"
      },
      "outputs": [
        {
          "data": {
            "application/vnd.microsoft.datawrangler.viewer.v0+json": {
              "columns": [
                {
                  "name": "index",
                  "rawType": "object",
                  "type": "string"
                },
                {
                  "name": "User_ID",
                  "rawType": "float64",
                  "type": "float"
                },
                {
                  "name": "Age",
                  "rawType": "float64",
                  "type": "float"
                },
                {
                  "name": "Height",
                  "rawType": "float64",
                  "type": "float"
                },
                {
                  "name": "Weight",
                  "rawType": "float64",
                  "type": "float"
                },
                {
                  "name": "Duration",
                  "rawType": "float64",
                  "type": "float"
                },
                {
                  "name": "Heart_Rate",
                  "rawType": "float64",
                  "type": "float"
                },
                {
                  "name": "Body_Temp",
                  "rawType": "float64",
                  "type": "float"
                },
                {
                  "name": "Calories",
                  "rawType": "float64",
                  "type": "float"
                }
              ],
              "ref": "a5c8d5b7-8f0e-4202-8cf8-79a6db51693a",
              "rows": [
                [
                  "count",
                  "15000.0",
                  "15000.0",
                  "15000.0",
                  "15000.0",
                  "15000.0",
                  "15000.0",
                  "15000.0",
                  "15000.0"
                ],
                [
                  "mean",
                  "14977358.538466666",
                  "42.7898",
                  "174.46513333333334",
                  "74.96686666666666",
                  "15.5306",
                  "95.51853333333334",
                  "40.02545333333334",
                  "89.53953333333334"
                ],
                [
                  "std",
                  "2872851.4522327",
                  "16.98026416907042",
                  "14.258113616551187",
                  "15.035656739246907",
                  "8.319203342244775",
                  "9.583328189839294",
                  "0.7792299239893948",
                  "62.45697795593845"
                ],
                [
                  "min",
                  "10001159.0",
                  "20.0",
                  "123.0",
                  "36.0",
                  "1.0",
                  "67.0",
                  "37.1",
                  "1.0"
                ],
                [
                  "25%",
                  "12474190.75",
                  "28.0",
                  "164.0",
                  "63.0",
                  "8.0",
                  "88.0",
                  "39.6",
                  "35.0"
                ],
                [
                  "50%",
                  "14997285.0",
                  "39.0",
                  "175.0",
                  "74.0",
                  "16.0",
                  "96.0",
                  "40.2",
                  "79.0"
                ],
                [
                  "75%",
                  "17449278.75",
                  "56.0",
                  "185.0",
                  "87.0",
                  "23.0",
                  "103.0",
                  "40.6",
                  "138.0"
                ],
                [
                  "max",
                  "19999647.0",
                  "79.0",
                  "222.0",
                  "132.0",
                  "30.0",
                  "128.0",
                  "41.5",
                  "314.0"
                ]
              ],
              "shape": {
                "columns": 8,
                "rows": 8
              }
            },
            "text/html": [
              "<div>\n",
              "<style scoped>\n",
              "    .dataframe tbody tr th:only-of-type {\n",
              "        vertical-align: middle;\n",
              "    }\n",
              "\n",
              "    .dataframe tbody tr th {\n",
              "        vertical-align: top;\n",
              "    }\n",
              "\n",
              "    .dataframe thead th {\n",
              "        text-align: right;\n",
              "    }\n",
              "</style>\n",
              "<table border=\"1\" class=\"dataframe\">\n",
              "  <thead>\n",
              "    <tr style=\"text-align: right;\">\n",
              "      <th></th>\n",
              "      <th>User_ID</th>\n",
              "      <th>Age</th>\n",
              "      <th>Height</th>\n",
              "      <th>Weight</th>\n",
              "      <th>Duration</th>\n",
              "      <th>Heart_Rate</th>\n",
              "      <th>Body_Temp</th>\n",
              "      <th>Calories</th>\n",
              "    </tr>\n",
              "  </thead>\n",
              "  <tbody>\n",
              "    <tr>\n",
              "      <th>count</th>\n",
              "      <td>1.500000e+04</td>\n",
              "      <td>15000.000000</td>\n",
              "      <td>15000.000000</td>\n",
              "      <td>15000.000000</td>\n",
              "      <td>15000.000000</td>\n",
              "      <td>15000.000000</td>\n",
              "      <td>15000.000000</td>\n",
              "      <td>15000.000000</td>\n",
              "    </tr>\n",
              "    <tr>\n",
              "      <th>mean</th>\n",
              "      <td>1.497736e+07</td>\n",
              "      <td>42.789800</td>\n",
              "      <td>174.465133</td>\n",
              "      <td>74.966867</td>\n",
              "      <td>15.530600</td>\n",
              "      <td>95.518533</td>\n",
              "      <td>40.025453</td>\n",
              "      <td>89.539533</td>\n",
              "    </tr>\n",
              "    <tr>\n",
              "      <th>std</th>\n",
              "      <td>2.872851e+06</td>\n",
              "      <td>16.980264</td>\n",
              "      <td>14.258114</td>\n",
              "      <td>15.035657</td>\n",
              "      <td>8.319203</td>\n",
              "      <td>9.583328</td>\n",
              "      <td>0.779230</td>\n",
              "      <td>62.456978</td>\n",
              "    </tr>\n",
              "    <tr>\n",
              "      <th>min</th>\n",
              "      <td>1.000116e+07</td>\n",
              "      <td>20.000000</td>\n",
              "      <td>123.000000</td>\n",
              "      <td>36.000000</td>\n",
              "      <td>1.000000</td>\n",
              "      <td>67.000000</td>\n",
              "      <td>37.100000</td>\n",
              "      <td>1.000000</td>\n",
              "    </tr>\n",
              "    <tr>\n",
              "      <th>25%</th>\n",
              "      <td>1.247419e+07</td>\n",
              "      <td>28.000000</td>\n",
              "      <td>164.000000</td>\n",
              "      <td>63.000000</td>\n",
              "      <td>8.000000</td>\n",
              "      <td>88.000000</td>\n",
              "      <td>39.600000</td>\n",
              "      <td>35.000000</td>\n",
              "    </tr>\n",
              "    <tr>\n",
              "      <th>50%</th>\n",
              "      <td>1.499728e+07</td>\n",
              "      <td>39.000000</td>\n",
              "      <td>175.000000</td>\n",
              "      <td>74.000000</td>\n",
              "      <td>16.000000</td>\n",
              "      <td>96.000000</td>\n",
              "      <td>40.200000</td>\n",
              "      <td>79.000000</td>\n",
              "    </tr>\n",
              "    <tr>\n",
              "      <th>75%</th>\n",
              "      <td>1.744928e+07</td>\n",
              "      <td>56.000000</td>\n",
              "      <td>185.000000</td>\n",
              "      <td>87.000000</td>\n",
              "      <td>23.000000</td>\n",
              "      <td>103.000000</td>\n",
              "      <td>40.600000</td>\n",
              "      <td>138.000000</td>\n",
              "    </tr>\n",
              "    <tr>\n",
              "      <th>max</th>\n",
              "      <td>1.999965e+07</td>\n",
              "      <td>79.000000</td>\n",
              "      <td>222.000000</td>\n",
              "      <td>132.000000</td>\n",
              "      <td>30.000000</td>\n",
              "      <td>128.000000</td>\n",
              "      <td>41.500000</td>\n",
              "      <td>314.000000</td>\n",
              "    </tr>\n",
              "  </tbody>\n",
              "</table>\n",
              "</div>"
            ],
            "text/plain": [
              "            User_ID           Age        Height        Weight      Duration  \\\n",
              "count  1.500000e+04  15000.000000  15000.000000  15000.000000  15000.000000   \n",
              "mean   1.497736e+07     42.789800    174.465133     74.966867     15.530600   \n",
              "std    2.872851e+06     16.980264     14.258114     15.035657      8.319203   \n",
              "min    1.000116e+07     20.000000    123.000000     36.000000      1.000000   \n",
              "25%    1.247419e+07     28.000000    164.000000     63.000000      8.000000   \n",
              "50%    1.499728e+07     39.000000    175.000000     74.000000     16.000000   \n",
              "75%    1.744928e+07     56.000000    185.000000     87.000000     23.000000   \n",
              "max    1.999965e+07     79.000000    222.000000    132.000000     30.000000   \n",
              "\n",
              "         Heart_Rate     Body_Temp      Calories  \n",
              "count  15000.000000  15000.000000  15000.000000  \n",
              "mean      95.518533     40.025453     89.539533  \n",
              "std        9.583328      0.779230     62.456978  \n",
              "min       67.000000     37.100000      1.000000  \n",
              "25%       88.000000     39.600000     35.000000  \n",
              "50%       96.000000     40.200000     79.000000  \n",
              "75%      103.000000     40.600000    138.000000  \n",
              "max      128.000000     41.500000    314.000000  "
            ]
          },
          "execution_count": 15,
          "metadata": {},
          "output_type": "execute_result"
        }
      ],
      "source": [
        "# get some statistical measures about the data\n",
        "calories_data.describe()"
      ]
    },
    {
      "cell_type": "code",
      "execution_count": 16,
      "metadata": {
        "colab": {
          "base_uri": "https://localhost:8080/"
        },
        "id": "xoqWQ3buZeVk",
        "outputId": "9ad21a43-4267-480f-ea76-05908ddb5bf3"
      },
      "outputs": [
        {
          "name": "stdout",
          "output_type": "stream",
          "text": [
            "User_ID:\t\tGender: 0 = Female, 1 = Male\n",
            "Gender:\t\tAge in years\n",
            "Age:\t\tHeight in centimeters\n",
            "Height:\t\tWeight in kilograms\n",
            "Weight:\t\tDuration of exercise (minutes)\n",
            "Duration:\t\tHeart Rate achieved (beats per minute)\n",
            "Heart_Rate:\t\tBody Temperature during exercise (°C)\n",
            "Body_Temp:\t\tCalories burnt (Target)\n"
          ]
        }
      ],
      "source": [
        "info = [\n",
        "    \"Gender: 0 = Female, 1 = Male\",\n",
        "    \"Age in years\",\n",
        "    \"Height in centimeters\",\n",
        "    \"Weight in kilograms\",\n",
        "    \"Duration of exercise (minutes)\",\n",
        "    \"Heart Rate achieved (beats per minute)\",\n",
        "    \"Body Temperature during exercise (°C)\",\n",
        "    \"Calories burnt (Target)\"\n",
        "]\n",
        "\n",
        "# Print the feature description\n",
        "for i in range(len(info)):\n",
        "    print(calories_data.columns[i] + \":\\t\\t\" + info[i])"
      ]
    },
    {
      "cell_type": "code",
      "execution_count": 17,
      "metadata": {
        "colab": {
          "base_uri": "https://localhost:8080/",
          "height": 489
        },
        "id": "lWA-ArEebZwK",
        "outputId": "092ddd50-3955-42e8-e454-7337efa0d680"
      },
      "outputs": [
        {
          "data": {
            "application/vnd.microsoft.datawrangler.viewer.v0+json": {
              "columns": [
                {
                  "name": "Calories",
                  "rawType": "float64",
                  "type": "float"
                },
                {
                  "name": "count",
                  "rawType": "int64",
                  "type": "integer"
                }
              ],
              "ref": "756de63d-ef0e-4047-afaf-18687ed23229",
              "rows": [
                [
                  "7.0",
                  "161"
                ],
                [
                  "13.0",
                  "142"
                ],
                [
                  "12.0",
                  "137"
                ],
                [
                  "11.0",
                  "137"
                ],
                [
                  "17.0",
                  "136"
                ],
                [
                  "20.0",
                  "135"
                ],
                [
                  "8.0",
                  "134"
                ],
                [
                  "9.0",
                  "131"
                ],
                [
                  "28.0",
                  "121"
                ],
                [
                  "4.0",
                  "120"
                ],
                [
                  "42.0",
                  "120"
                ],
                [
                  "14.0",
                  "119"
                ],
                [
                  "10.0",
                  "119"
                ],
                [
                  "22.0",
                  "118"
                ],
                [
                  "21.0",
                  "116"
                ],
                [
                  "26.0",
                  "116"
                ],
                [
                  "23.0",
                  "113"
                ],
                [
                  "15.0",
                  "111"
                ],
                [
                  "44.0",
                  "110"
                ],
                [
                  "60.0",
                  "108"
                ],
                [
                  "24.0",
                  "107"
                ],
                [
                  "34.0",
                  "107"
                ],
                [
                  "19.0",
                  "106"
                ],
                [
                  "29.0",
                  "105"
                ],
                [
                  "30.0",
                  "105"
                ],
                [
                  "16.0",
                  "104"
                ],
                [
                  "25.0",
                  "104"
                ],
                [
                  "6.0",
                  "103"
                ],
                [
                  "18.0",
                  "103"
                ],
                [
                  "31.0",
                  "100"
                ],
                [
                  "54.0",
                  "100"
                ],
                [
                  "48.0",
                  "98"
                ],
                [
                  "62.0",
                  "97"
                ],
                [
                  "36.0",
                  "95"
                ],
                [
                  "27.0",
                  "95"
                ],
                [
                  "43.0",
                  "95"
                ],
                [
                  "47.0",
                  "94"
                ],
                [
                  "57.0",
                  "94"
                ],
                [
                  "38.0",
                  "94"
                ],
                [
                  "37.0",
                  "94"
                ],
                [
                  "3.0",
                  "92"
                ],
                [
                  "35.0",
                  "91"
                ],
                [
                  "32.0",
                  "91"
                ],
                [
                  "55.0",
                  "91"
                ],
                [
                  "52.0",
                  "91"
                ],
                [
                  "65.0",
                  "90"
                ],
                [
                  "53.0",
                  "90"
                ],
                [
                  "49.0",
                  "90"
                ],
                [
                  "41.0",
                  "89"
                ],
                [
                  "91.0",
                  "86"
                ]
              ],
              "shape": {
                "columns": 1,
                "rows": 277
              }
            },
            "text/plain": [
              "Calories\n",
              "7.0      161\n",
              "13.0     142\n",
              "12.0     137\n",
              "11.0     137\n",
              "17.0     136\n",
              "        ... \n",
              "270.0      1\n",
              "280.0      1\n",
              "289.0      1\n",
              "258.0      1\n",
              "287.0      1\n",
              "Name: count, Length: 277, dtype: int64"
            ]
          },
          "execution_count": 17,
          "metadata": {},
          "output_type": "execute_result"
        }
      ],
      "source": [
        "calories_data['Calories'].value_counts()"
      ]
    },
    {
      "cell_type": "code",
      "execution_count": 18,
      "metadata": {
        "colab": {
          "base_uri": "https://localhost:8080/",
          "height": 335
        },
        "id": "QltouL6ocU38",
        "outputId": "c223203d-632a-4974-fc6a-6a74901a7e3e"
      },
      "outputs": [
        {
          "data": {
            "application/vnd.microsoft.datawrangler.viewer.v0+json": {
              "columns": [
                {
                  "name": "index",
                  "rawType": "object",
                  "type": "string"
                },
                {
                  "name": "Calories",
                  "rawType": "float64",
                  "type": "float"
                }
              ],
              "ref": "eab870bb-bd58-4dea-b20e-a4856b3556e4",
              "rows": [
                [
                  "count",
                  "15000.0"
                ],
                [
                  "mean",
                  "89.53953333333334"
                ],
                [
                  "std",
                  "62.45697795593845"
                ],
                [
                  "min",
                  "1.0"
                ],
                [
                  "25%",
                  "35.0"
                ],
                [
                  "50%",
                  "79.0"
                ],
                [
                  "75%",
                  "138.0"
                ],
                [
                  "max",
                  "314.0"
                ]
              ],
              "shape": {
                "columns": 1,
                "rows": 8
              }
            },
            "text/plain": [
              "count    15000.000000\n",
              "mean        89.539533\n",
              "std         62.456978\n",
              "min          1.000000\n",
              "25%         35.000000\n",
              "50%         79.000000\n",
              "75%        138.000000\n",
              "max        314.000000\n",
              "Name: Calories, dtype: float64"
            ]
          },
          "execution_count": 18,
          "metadata": {},
          "output_type": "execute_result"
        }
      ],
      "source": [
        "calories_data['Calories'].describe()"
      ]
    },
    {
      "cell_type": "code",
      "execution_count": 19,
      "metadata": {
        "colab": {
          "base_uri": "https://localhost:8080/"
        },
        "id": "we_YXhCndQkU",
        "outputId": "075ee7ce-bbc1-4383-bb8f-68d55b36394e"
      },
      "outputs": [
        {
          "name": "stdout",
          "output_type": "stream",
          "text": [
            "Calories      1.000000\n",
            "Duration      0.955421\n",
            "Heart_Rate    0.897882\n",
            "Body_Temp     0.824558\n",
            "Age           0.154395\n",
            "Weight        0.035481\n",
            "Gender        0.022357\n",
            "Height        0.017537\n",
            "User_ID       0.001661\n",
            "Name: Calories, dtype: float64\n"
          ]
        }
      ],
      "source": [
        "label_encoder = LabelEncoder()\n",
        "calories_data['Gender'] = label_encoder.fit_transform(calories_data['Gender'])\n",
        "# Now calculate and print the correlation\n",
        "print(calories_data.corr()['Calories'].abs().sort_values(ascending=False))"
      ]
    },
    {
      "cell_type": "code",
      "execution_count": 20,
      "metadata": {
        "colab": {
          "base_uri": "https://localhost:8080/",
          "height": 687
        },
        "id": "6mE7nR_9f0AV",
        "outputId": "903f6d6a-793f-4b0b-d472-9ff2aea8c012"
      },
      "outputs": [
        {
          "data": {
            "image/png": "[encoded data removed]",
            "text/plain": [
              "<Figure size 1000x700 with 2 Axes>"
            ]
          },
          "metadata": {},
          "output_type": "display_data"
        }
      ],
      "source": [
        "# Correlation heatmap\n",
        "plt.figure(figsize=(10,7))\n",
        "sns.heatmap(calories_data.corr(), annot=True, cmap=\"coolwarm\")\n",
        "plt.title(\"Feature Correlation Heatmap\")\n",
        "plt.show()"
      ]
    },
    {
      "cell_type": "code",
      "execution_count": 21,
      "metadata": {
        "colab": {
          "base_uri": "https://localhost:8080/"
        },
        "id": "s3W0qP2Mhhii",
        "outputId": "b7db2cae-b60b-4058-8ee1-2d9d727c7beb"
      },
      "outputs": [
        {
          "name": "stdout",
          "output_type": "stream",
          "text": [
            "Min Age : 20\n",
            "Max Age : 79\n",
            "Mean Age : 42.7898\n"
          ]
        }
      ],
      "source": [
        "# Minimum Age\n",
        "print('Min Age :', calories_data['Age'].min())\n",
        "# Maximum Age\n",
        "print('Max Age :', calories_data['Age'].max())\n",
        "# Mean (Average) Age\n",
        "print('Mean Age :', calories_data['Age'].mean())"
      ]
    },
    {
      "cell_type": "code",
      "execution_count": 22,
      "metadata": {
        "id": "9dAzaofAjLHn"
      },
      "outputs": [
        {
          "data": {
            "image/png": "[encoded data removed]",
            "text/plain": [
              "<Figure size 640x480 with 1 Axes>"
            ]
          },
          "metadata": {},
          "output_type": "display_data"
        }
      ],
      "source": [
        "sns.countplot(calories_data.Age)\n",
        "plt.xlabel('Age')\n",
        "plt.ylabel('Count')\n",
        "plt.title('Age Count')\n",
        "plt.show()"
      ]
    },
    {
      "cell_type": "code",
      "execution_count": 23,
      "metadata": {
        "colab": {
          "base_uri": "https://localhost:8080/",
          "height": 521
        },
        "id": "6fpAGrT3jgK1",
        "outputId": "dcfc5614-4075-46b3-8e44-34b05472a875"
      },
      "outputs": [
        {
          "data": {
            "image/png": "[encoded data removed]",
            "text/plain": [
              "<Figure size 800x600 with 1 Axes>"
            ]
          },
          "metadata": {},
          "output_type": "display_data"
        }
      ],
      "source": [
        "# Pie Chart: Gender Breakdown\n",
        "male = len(calories_data[calories_data['Gender'] == 1])    # ‘1’ for male (after label encoding)\n",
        "female = len(calories_data[calories_data['Gender'] == 0])  # ‘0’ for female\n",
        "labels = ['Male', 'Female']\n",
        "sizes = [male, female]\n",
        "colors = ['skyblue', 'lightpink']\n",
        "explode = (0, 0.05)\n",
        "\n",
        "plt.figure(figsize=(8,6))  # Size of the figure\n",
        "plt.pie(\n",
        "    sizes,\n",
        "    explode=explode,\n",
        "    labels=labels,\n",
        "    colors=colors,\n",
        "    autopct='%1.1f%%',\n",
        "    shadow=False,\n",
        "    startangle=140\n",
        ")\n",
        "plt.axis('equal')  # Ensures the pie chart is drawn as a circle\n",
        "plt.title('Gender Breakdown')\n",
        "plt.show()"
      ]
    },
    {
      "cell_type": "code",
      "execution_count": 24,
      "metadata": {
        "colab": {
          "base_uri": "https://localhost:8080/",
          "height": 800
        },
        "id": "YVID6NyvsoC2",
        "outputId": "ce49efd2-6f85-4d3d-a359-e2453787c16b"
      },
      "outputs": [
        {
          "name": "stdout",
          "output_type": "stream",
          "text": [
            "Young People: 7502\n",
            "Middle Age People: 3454\n",
            "Elderly People: 4044\n"
          ]
        },
        {
          "name": "stderr",
          "output_type": "stream",
          "text": [
            "C:\\Users\\ASUTOSH\\AppData\\Local\\Temp\\ipykernel_15120\\186488758.py:12: FutureWarning: \n",
            "\n",
            "Passing `palette` without assigning `hue` is deprecated and will be removed in v0.14.0. Assign the `x` variable to `hue` and set `legend=False` for the same effect.\n",
            "\n",
            "  sns.barplot(x=['Young', 'Middle', 'Elderly'], y=[len(Young), len(Middle), len(Elder)],palette=['skyblue', 'lightcoral', 'gold'])\n"
          ]
        },
        {
          "data": {
            "image/png": "[encoded data removed]",
            "text/plain": [
              "<Figure size 1400x800 with 1 Axes>"
            ]
          },
          "metadata": {},
          "output_type": "display_data"
        }
      ],
      "source": [
        "# Group the data based on Age ranges\n",
        "Young = calories_data[(calories_data['Age'] >= 20) & (calories_data['Age'] < 40)]\n",
        "Middle = calories_data[(calories_data['Age'] >= 40) & (calories_data['Age'] < 55)]\n",
        "Elder = calories_data[calories_data['Age'] >= 55]\n",
        "# Print the number of people in each age group\n",
        "print(\"Young People:\", len(Young))\n",
        "print(\"Middle Age People:\", len(Middle))\n",
        "print(\"Elderly People:\", len(Elder))\n",
        "# Plotting the bar chart\n",
        "plt.figure(figsize=(14,8))\n",
        "sns.set_context('notebook', font_scale=1.5)\n",
        "sns.barplot(x=['Young', 'Middle', 'Elderly'], y=[len(Young), len(Middle), len(Elder)],palette=['skyblue', 'lightcoral', 'gold'])\n",
        "plt.title('Age Group Distribution')\n",
        "plt.xlabel('Age Group')\n",
        "plt.ylabel('Count')\n",
        "plt.tight_layout()\n",
        "plt.show()"
      ]
    },
    {
      "cell_type": "code",
      "execution_count": 25,
      "metadata": {
        "colab": {
          "base_uri": "https://localhost:8080/",
          "height": 668
        },
        "id": "xfNTDBTnvgQv",
        "outputId": "b27646a8-e834-4993-a830-1cf3ef55e510"
      },
      "outputs": [
        {
          "name": "stdout",
          "output_type": "stream",
          "text": [
            "Calories\n",
            "7.0      161\n",
            "13.0     142\n",
            "12.0     137\n",
            "11.0     137\n",
            "17.0     136\n",
            "        ... \n",
            "270.0      1\n",
            "280.0      1\n",
            "289.0      1\n",
            "258.0      1\n",
            "287.0      1\n",
            "Name: count, Length: 277, dtype: int64\n"
          ]
        },
        {
          "data": {
            "image/png": "[encoded data removed]",
            "text/plain": [
              "<Figure size 640x480 with 1 Axes>"
            ]
          },
          "metadata": {},
          "output_type": "display_data"
        }
      ],
      "source": [
        "y=calories_data[\"Calories\"]\n",
        "sns.countplot(y)\n",
        "calories_temp=calories_data.Calories.value_counts()\n",
        "print(calories_temp)"
      ]
    },
    {
      "cell_type": "code",
      "execution_count": 26,
      "metadata": {
        "colab": {
          "base_uri": "https://localhost:8080/"
        },
        "id": "B9fcjHWl_Yoe",
        "outputId": "4ec787d1-f864-45d8-cb4a-292aa5121c2c"
      },
      "outputs": [
        {
          "name": "stdout",
          "output_type": "stream",
          "text": [
            "----------------------------\n",
            "User_ID : [14733363 14861698 11179863 ... 17271188 18643037 11751526]\n",
            "----------------------------\n",
            "Gender : [1 0]\n",
            "----------------------------\n",
            "Age : [68 20 69 34 27 36 33 41 60 26 21 66 32 53 39 46 50 67 31 48 29 42 62 38\n",
            " 25 24 22 74 70 44 61 63 54 47 35 28 77 64 45 57 49 40 55 23 43 52 79 51\n",
            " 59 30 37 56 58 78 73 76 72 65 71 75]\n",
            "----------------------------\n",
            "Height : [190. 166. 179. 154. 151. 158. 175. 186. 146. 177. 157. 171. 182. 156.\n",
            " 169. 188. 189. 148. 165. 176. 173. 159. 183. 160. 184. 155. 195. 152.\n",
            " 193. 168. 174. 191. 164. 198. 170. 167. 185. 163. 192. 178. 197. 187.\n",
            " 144. 202. 201. 181. 136. 180. 194. 143. 149. 172. 153. 147. 199. 161.\n",
            " 204. 203. 145. 200. 150. 162. 205. 208. 209. 206. 140. 132. 196. 207.\n",
            " 212. 135. 133. 139. 138. 217. 211. 142. 137. 213. 210. 141. 123. 214.\n",
            " 127. 218. 126. 134. 222. 219.]\n",
            "----------------------------\n",
            "Weight : [ 94.  60.  79.  71.  58.  50.  56.  85.  51.  76.  54.  62.  82.  67.\n",
            "  65.  86.  93.  59.  75.  73.  88.  68.  84.  80.  57.  70.  66.  55.\n",
            "  98.  69. 101.  89.  64.  63.  77.  61.  83.  92.  72. 100.  91.  74.\n",
            "  87. 107.  53.  96.  81.  90.  45.  52.  49.  78.  47.  95. 109. 104.\n",
            " 102. 103. 105. 112.  97.  99. 111.  42. 115.  38.  46. 108. 106.  48.\n",
            "  40.  44. 114.  41. 110.  43. 118. 113. 124. 117. 122. 120. 116. 121.\n",
            " 132.  39. 119.  36. 128. 126. 123.]\n",
            "----------------------------\n",
            "Duration : [29. 14.  5. 13. 10. 23. 22. 25. 21. 16.  1. 17. 11. 18.  2. 28.  4.  8.\n",
            "  3.  7. 24. 20.  9. 15. 19. 27. 12. 26.  6. 30.]\n",
            "----------------------------\n",
            "Heart_Rate : [105.  94.  88. 100.  81.  96.  95.  97.  90.  74.  93.  82. 104.  89.\n",
            "  85.  77.  84.  80.  83.  78. 106. 102.  91. 114.  92. 108.  98.  86.\n",
            "  79. 113.  99. 111. 101. 109.  76. 103. 110.  73. 107. 115. 112.  87.\n",
            " 116. 118. 119. 123.  75.  69. 120. 117.  71. 121.  70.  72.  67. 122.\n",
            " 125.  68. 128.]\n",
            "----------------------------\n",
            "Body_Temp : [40.8 40.3 38.7 40.5 39.8 40.7 40.4 40.2 37.8 40.  38.1 38.6 39.2 39.5\n",
            " 41.  37.7 39.7 39.3 38.9 41.2 38.2 39.6 38.3 40.1 39.9 40.6 38.  38.5\n",
            " 40.9 39.1 39.  38.4 41.4 39.4 37.9 41.1 37.6 38.8 41.3 37.5 41.5 37.4\n",
            " 37.3 37.2 37.1]\n",
            "----------------------------\n",
            "Calories : [231.  66.  26.  71.  35. 123. 112. 143. 134.  72.   3.  92.  58.  88.\n",
            "   7. 170.  11.  43.  15.  74.  29.  32.  10. 155.  24.  12. 195.   5.\n",
            "  69. 136.  80. 107. 200.  56.  50. 100.   4.  70. 127. 197. 113.  82.\n",
            " 141.  30.  37. 147.   8. 159.  93. 173.  89.  31.  94.  49.  54. 117.\n",
            "  99.  45. 166. 202. 199.  25.  23.   6. 188. 103. 128. 130.  27. 185.\n",
            "  57.  65.  91. 120.  39.  77.  42.  41.  59. 179.  13. 180. 101. 150.\n",
            " 247.  18. 207. 189.  60. 186. 178. 122. 158.  86. 182.  52. 236. 114.\n",
            "  64. 171.  19. 144. 149.  78.  20.  17. 115. 119. 168.  44. 192.  96.\n",
            " 135. 239.  46. 190.  48.  95. 196.   9. 105. 111. 108.  67.  62. 172.\n",
            "  84. 132. 167.  28. 157. 133. 145. 174.  34. 193. 161.  85.  90. 176.\n",
            "  51.  22. 212. 201.  83.  87. 221. 257. 169.  21. 156. 140.  79.  16.\n",
            " 137.  76. 187. 109. 204.  36. 151. 138. 116. 110. 163.  38. 104. 183.\n",
            " 152. 223. 181. 216.  68. 129. 121. 126.  63. 215. 160. 154. 124. 208.\n",
            "  47. 131. 165. 217. 139. 238. 184.   2. 162. 243.  14. 241. 125. 314.\n",
            " 211.  55. 106. 240. 164.  97.  33.  75. 142.  53. 148. 205. 206. 226.\n",
            " 219.  40.   1.  81. 175.  73.  61. 146. 153. 232. 194. 242. 102. 214.\n",
            " 198. 210. 270. 233. 177. 203. 191.  98. 271. 229. 220. 118. 276. 266.\n",
            " 249. 209. 234. 218. 260. 227. 225. 213. 235. 244. 230. 228. 246. 295.\n",
            " 280. 248. 224. 252. 256. 265. 259. 222. 250. 237. 251. 300. 254. 261.\n",
            " 272. 245. 268. 253. 269. 273. 264. 289. 255. 258. 287.]\n",
            "\n",
            "Categorical Columns: ['Gender']\n",
            "Continuous Columns: ['User_ID', 'Age', 'Height', 'Weight', 'Duration', 'Heart_Rate', 'Body_Temp', 'Calories']\n"
          ]
        }
      ],
      "source": [
        "# Separate categorical and continuous columns\n",
        "categorical_val = []\n",
        "continuous_val = []\n",
        "\n",
        "for column in calories_data.columns:\n",
        "    print(\"----------------------------\")\n",
        "    print(f\"{column} : {calories_data[column].unique()}\")\n",
        "    if len(calories_data[column].unique()) <= 10:\n",
        "        categorical_val.append(column)\n",
        "    else:\n",
        "        continuous_val.append(column)\n",
        "\n",
        "# Display the results\n",
        "print(\"\\nCategorical Columns:\", categorical_val)\n",
        "print(\"Continuous Columns:\", continuous_val)"
      ]
    },
    {
      "cell_type": "code",
      "execution_count": 27,
      "metadata": {
        "colab": {
          "base_uri": "https://localhost:8080/"
        },
        "id": "HWwtc7JrBWuh",
        "outputId": "31f05a14-1326-4ff9-c4c6-9e29dc6baa0a"
      },
      "outputs": [
        {
          "name": "stdout",
          "output_type": "stream",
          "text": [
            "(15000, 7) (12000, 7) (3000, 7)\n"
          ]
        }
      ],
      "source": [
        "#  Prepare Features and Target\n",
        "calories_data = calories_data.drop('User_ID', axis=1)\n",
        "X = calories_data.drop('Calories', axis=1)\n",
        "y = calories_data['Calories']\n",
        "# Train-Test Split\n",
        "X_train, X_test, y_train, y_test = train_test_split(X, y, test_size=0.2, random_state=42)\n",
        "print(X.shape, X_train.shape, X_test.shape)"
      ]
    },
    {
      "cell_type": "code",
      "execution_count": 28,
      "metadata": {
        "colab": {
          "base_uri": "https://localhost:8080/"
        },
        "id": "51GrAUMzpxpO",
        "outputId": "324e66e6-e0ec-4a74-f564-703280a0ae8e"
      },
      "outputs": [
        {
          "name": "stdout",
          "output_type": "stream",
          "text": [
            "Linear Regression R2 Score: 96.73%\n",
            "Linear Regression RMSE: 11.49\n",
            "----------------------------------------\n",
            "Decision Tree Regression R2 Score: 99.29%\n",
            "Decision Tree Regression RMSE: 5.34\n",
            "----------------------------------------\n",
            "Random Forest Regression R2 Score: 99.82%\n",
            "Random Forest Regression RMSE: 2.68\n",
            "----------------------------------------\n",
            "KNN Regression R2 Score: 99.35%\n",
            "KNN Regression RMSE: 5.11\n",
            "----------------------------------------\n",
            "SVR R2 Score: 99.27%\n",
            "SVR RMSE: 5.44\n",
            "----------------------------------------\n",
            "Gradient Boosting Regression R2 Score: 99.68%\n",
            "Gradient Boosting Regression RMSE: 3.61\n",
            "----------------------------------------\n"
          ]
        }
      ],
      "source": [
        "# Feature Scaling (Important for KNN and SVR)\n",
        "scaler = StandardScaler()\n",
        "X_train_scaled = scaler.fit_transform(X_train)\n",
        "X_test_scaled = scaler.transform(X_test)\n",
        "\n",
        "# Linear Regression\n",
        "lr = LinearRegression()\n",
        "lr.fit(X_train, y_train)\n",
        "y_pred_lr = lr.predict(X_test)\n",
        "\n",
        "# Decision Tree Regressor\n",
        "dt = DecisionTreeRegressor(random_state=42)\n",
        "dt.fit(X_train, y_train)\n",
        "y_pred_dt = dt.predict(X_test)\n",
        "\n",
        "# Random Forest Regressor\n",
        "rf = RandomForestRegressor(random_state=42)\n",
        "rf.fit(X_train, y_train)\n",
        "y_pred_rf = rf.predict(X_test)\n",
        "\n",
        "# KNN Regressor\n",
        "knn = KNeighborsRegressor(n_neighbors=5)\n",
        "knn.fit(X_train_scaled, y_train)\n",
        "y_pred_knn = knn.predict(X_test_scaled)\n",
        "\n",
        "# Support Vector Regressor\n",
        "svr = SVR()\n",
        "svr.fit(X_train_scaled, y_train)\n",
        "y_pred_svr = svr.predict(X_test_scaled)\n",
        "\n",
        "# Gradient Boosting Regressor\n",
        "gb = GradientBoostingRegressor(random_state=42)\n",
        "gb.fit(X_train, y_train)\n",
        "y_pred_gb = gb.predict(X_test)\n",
        "\n",
        "# Step 6: Evaluate Models\n",
        "def evaluate_model(name, y_test, y_pred):\n",
        "    print(f\"{name} R2 Score: {r2_score(y_test, y_pred)*100:.2f}%\")\n",
        "    print(f\"{name} RMSE: {np.sqrt(mean_squared_error(y_test, y_pred)):.2f}\")\n",
        "    print(\"-\" * 40)\n",
        "\n",
        "evaluate_model(\"Linear Regression\", y_test, y_pred_lr)\n",
        "evaluate_model(\"Decision Tree Regression\", y_test, y_pred_dt)\n",
        "evaluate_model(\"Random Forest Regression\", y_test, y_pred_rf)\n",
        "evaluate_model(\"KNN Regression\", y_test, y_pred_knn)\n",
        "evaluate_model(\"SVR\", y_test, y_pred_svr)\n",
        "evaluate_model(\"Gradient Boosting Regression\", y_test, y_pred_gb)\n"
      ]
    },
    {
      "cell_type": "code",
      "execution_count": 29,
      "metadata": {
        "colab": {
          "base_uri": "https://localhost:8080/",
          "height": 757
        },
        "id": "C1t0hNI4wQmR",
        "outputId": "04eba87f-5332-486d-8bdd-d5183ae64932"
      },
      "outputs": [
        {
          "name": "stderr",
          "output_type": "stream",
          "text": [
            "C:\\Users\\ASUTOSH\\AppData\\Local\\Temp\\ipykernel_15120\\1953486827.py:15: FutureWarning: \n",
            "\n",
            "Passing `palette` without assigning `hue` is deprecated and will be removed in v0.14.0. Assign the `x` variable to `hue` and set `legend=False` for the same effect.\n",
            "\n",
            "  sns.barplot(x=['Linear Regression', 'Decision Tree Regression', 'Random Forest Regression', 'KNN Regression', 'SVR', 'Gradient Boosting Regression'],\n"
          ]
        },
        {
          "data": {
            "image/png": "[encoded data removed]",
            "text/plain": [
              "<Figure size 1200x700 with 1 Axes>"
            ]
          },
          "metadata": {},
          "output_type": "display_data"
        }
      ],
      "source": [
        "# Store R2 scores in a list\n",
        "scores = [\n",
        "    r2_score(y_test, y_pred_lr),\n",
        "    r2_score(y_test, y_pred_dt),\n",
        "    r2_score(y_test, y_pred_rf),\n",
        "    r2_score(y_test, y_pred_knn),\n",
        "    r2_score(y_test, y_pred_svr),\n",
        "    r2_score(y_test, y_pred_gb)\n",
        "]\n",
        "# Create the bar plot\n",
        "sns.set(rc={'figure.figsize': (12, 7)})\n",
        "plt.xlabel(\"Algorithms\")\n",
        "plt.ylabel(\"R2 Score\")\n",
        "plt.title(\"Accuracy of Algorithms\")\n",
        "sns.barplot(x=['Linear Regression', 'Decision Tree Regression', 'Random Forest Regression', 'KNN Regression', 'SVR', 'Gradient Boosting Regression'],\n",
        "            y=scores,\n",
        "            palette=['red', 'green', 'blue', 'orange', 'purple', 'cyan'])  # List of colors for each bar\n",
        "plt.show()  # Add this line to display the plot"
      ]
    },
    {
      "cell_type": "code",
      "execution_count": 31,
      "metadata": {
        "colab": {
          "base_uri": "https://localhost:8080/"
        },
        "id": "On3T3DLb_tWk",
        "outputId": "ad9d63be-1feb-42c5-d62b-5ddb66d7197a"
      },
      "outputs": [
        {
          "name": "stdout",
          "output_type": "stream",
          "text": [
            "\n",
            "Calories Burnt Prediction for user input: 138.72\n"
          ]
        }
      ],
      "source": [
        "# Sample input (Gender: 1, Age: 22, Height: 0, Weight: 41.0, Duration: 57.0, Heart_Rate: 0, Body_Temp: 6.6)\n",
        "input_data = (1, 22, 0, 41.0, 57.0, 0, 6.6)\n",
        "\n",
        "# Create a DataFrame with column names\n",
        "input_df = pd.DataFrame([input_data], columns=X.columns)  # X is your original feature data\n",
        "\n",
        "# Predicting using the DataFrame\n",
        "input_prediction = rf.predict(input_df)\n",
        "print(f\"\\nCalories Burnt Prediction for user input: {input_prediction[0]}\")"
      ]
    },
    {
      "cell_type": "code",
      "execution_count": 32,
      "metadata": {
        "colab": {
          "base_uri": "https://localhost:8080/"
        },
        "id": "Cbttplp3Qw1O",
        "outputId": "6e67cedf-57f1-4a4d-90b8-4dc551feb5ca"
      },
      "outputs": [
        {
          "name": "stdout",
          "output_type": "stream",
          "text": [
            "Model saved as 'calories_model.pkl'\n"
          ]
        }
      ],
      "source": [
        "import pickle\n",
        "\n",
        "# Save the trained model to a file\n",
        "with open('calories_model.pkl', 'wb') as file:\n",
        "    pickle.dump(rf, file)\n",
        "\n",
        "print(\"Model saved as 'calories_model.pkl'\")"
      ]
    },
    {
      "cell_type": "code",
      "execution_count": 33,
      "metadata": {
        "colab": {
          "base_uri": "https://localhost:8080/"
        },
        "id": "mywNIvww9BUS",
        "outputId": "44618e3f-1818-4d4e-e2de-69975612d49c"
      },
      "outputs": [
        {
          "name": "stdout",
          "output_type": "stream",
          "text": [
            "Calories Burnt Prediction: 105.2\n"
          ]
        }
      ],
      "source": [
        "\n",
        "# Input from user\n",
        "gender = int(input(\"Enter Gender (0 for Female, 1 for Male): \"))\n",
        "age = int(input(\"Enter Age: \"))\n",
        "height = float(input(\"Enter Height (in cm): \"))\n",
        "weight = float(input(\"Enter Weight (in kg): \"))\n",
        "duration = float(input(\"Enter Exercise Duration (in minutes): \"))\n",
        "heart_rate = int(input(\"Enter Heart Rate: \"))\n",
        "body_temp = float(input(\"Enter Body Temperature (in °C): \"))\n",
        "\n",
        "# Making prediction\n",
        "user_input = np.array([[gender, age, height, weight, duration, heart_rate, body_temp]])\n",
        "\n",
        "# Convert user_input to a DataFrame with column names\n",
        "user_input_df = pd.DataFrame(user_input, columns=X.columns)\n",
        "\n",
        "user_prediction = rf.predict(user_input_df)  # Use the DataFrame for prediction\n",
        "print(f\"Calories Burnt Prediction: {user_prediction[0]}\")"
      ]
    }
  ],
  "metadata": {
    "colab": {
      "provenance": []
    },
    "kernelspec": {
      "display_name": "Python 3",
      "name": "python3"
    },
    "language_info": {
      "codemirror_mode": {
        "name": "ipython",
        "version": 3
      },
      "file_extension": ".py",
      "mimetype": "text/x-python",
      "name": "python",
      "nbconvert_exporter": "python",
      "pygments_lexer": "ipython3",
      "version": "3.11.0"
    }
  },
  "nbformat": 4,
  "nbformat_minor": 0
}
